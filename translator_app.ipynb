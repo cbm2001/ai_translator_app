{
 "cells": [
  {
   "attachments": {},
   "cell_type": "markdown",
   "metadata": {},
   "source": [
    "Installing Dependencies"
   ]
  },
  {
   "cell_type": "code",
   "execution_count": null,
   "metadata": {},
   "outputs": [],
   "source": [
    "!pip3 install torch torchvision torchaudio --target D:\\Users\\Cheryl\\AppData\\Local\\Progradioadioadioadioadioadioams\\Python\\Python311\\Scripts"
   ]
  },
  {
   "cell_type": "code",
   "execution_count": null,
   "metadata": {},
   "outputs": [],
   "source": [
    "!pip3 install transformers ipywidgets gradio --target D:\\Users\\Cheryl\\AppData\\Local\\Programs\\Python\\Python311\\Scripts"
   ]
  },
  {
   "cell_type": "code",
   "execution_count": null,
   "metadata": {},
   "outputs": [],
   "source": [
    "!pip3 install tensorflow --target D:\\Users\\Cheryl\\AppData\\Local\\Programs\\Python\\Python311\\Scripts\n",
    "!pip3 install numpy --target D:\\Users\\Cheryl\\AppData\\Local\\Programs\\Python\\Python311\\Scripts\n",
    "!pip3 install transformers --target D:\\Users\\Cheryl\\AppData\\Local\\Programs\\Python\\Python311\\Scripts\n",
    "!pip3 install gradio --target D:\\Users\\Cheryl\\AppData\\Local\\Programs\\Python\\Python311\\Scripts"
   ]
  },
  {
   "cell_type": "code",
   "execution_count": null,
   "metadata": {},
   "outputs": [],
   "source": [
    "!pip3 install pytorch-pretrained-bert --target D:\\Users\\Cheryl\\AppData\\Local\\Programs\\Python\\Python311\\Scripts\n",
    "import pytorch_pretrained_bert as ppb\n",
    "assert 'bert-large-cased' in ppb.modeling.PRETRAINED_MODEL_ARCHIVE_MAP"
   ]
  },
  {
   "cell_type": "code",
   "execution_count": null,
   "metadata": {},
   "outputs": [],
   "source": [
    "!pip3 install sentencepiece --target D:\\Users\\Cheryl\\AppData\\Local\\Programs\\Python\\Python311\\Scripts"
   ]
  },
  {
   "cell_type": "code",
   "execution_count": null,
   "metadata": {},
   "outputs": [],
   "source": [
    "# following packages can be installed using the above two commands if the initial commands didn't work\n",
    "import gradio\n",
    "from transformers import pipeline"
   ]
  },
  {
   "cell_type": "code",
   "execution_count": null,
   "metadata": {},
   "outputs": [],
   "source": [
    "# This translation pipeline can currently be loaded from pipeline() using the following task identifier: \"translation_xx_to_yy\".\n",
    "dutch_translation_pipeline = pipeline(\"translation_en_to_de\") # for english to french\n",
    "french_translation_pipeline = pipeline(\"translation_en_to_fr\") # for english to french\n"
   ]
  },
  {
   "cell_type": "code",
   "execution_count": null,
   "metadata": {},
   "outputs": [],
   "source": [
    "dutch_translation_pipeline('i love ice cream')\n",
    "french_translation_pipeline('i love ice cream')"
   ]
  },
  {
   "cell_type": "code",
   "execution_count": null,
   "metadata": {},
   "outputs": [],
   "source": [
    "def dutch_translate_text(text):\n",
    "    translation = dutch_translation_pipeline(text)\n",
    "    return translation[0]['translation_text']"
   ]
  },
  {
   "cell_type": "code",
   "execution_count": null,
   "metadata": {},
   "outputs": [],
   "source": [
    "def french_translate_text(text):\n",
    "    translation = french_translation_pipeline(text)\n",
    "    return translation[0]['translation_text']"
   ]
  },
  {
   "cell_type": "code",
   "execution_count": null,
   "metadata": {},
   "outputs": [],
   "source": [
    "dutch_translate_text('I love ice cream')\n",
    "french_translate_text(\"hello there\")"
   ]
  },
  {
   "cell_type": "code",
   "execution_count": null,
   "metadata": {},
   "outputs": [],
   "source": [
    "css = \"\"\"\n",
    "#dutch {border: 1px solid #900;background-color: #73b1f0;} \n",
    "#french {border: 1px solid #900;background-color: #a7e092;} \n",
    ".feedback textarea {font-size: 18px !important}\n",
    "#heading {background-color: #ffc;}\n",
    "\"\"\""
   ]
  },
  {
   "cell_type": "code",
   "execution_count": null,
   "metadata": {},
   "outputs": [],
   "source": [
    "with gradio.Blocks(css=css) as demo:\n",
    "    gradio.Markdown(\"Translation App\")\n",
    "    with gradio.Accordion(\"Overview\", elem_id=\"heading\"):\n",
    "        gradio.Markdown(\"This translation app can be used to translate any text in English to : \")\n",
    "        gradio.Markdown(\"1. Dutch\")\n",
    "        gradio.Markdown(\"2. French\")\n",
    "    with gradio.Tab(\"English to Dutch\"):\n",
    "        de_text_input = gradio.Textbox(lines= 3, placeholder= \"Type the text you wish to translate\", elem_classes= \"feedback\",elem_id=\"dutch\")\n",
    "        de_text_output = gradio.Textbox(lines= 3, placeholder= \"Translated text appears here\", elem_classes= \"feedback\", elem_id=\"dutch\")\n",
    "        de_text_button = gradio.Button(\"Translate\")\n",
    "    with gradio.Tab(\"English to French\"):\n",
    "        fr_text_input = gradio.Textbox(lines= 3, placeholder= \"Type the text you wish to translate\", elem_id=\"french\", elem_classes= \"feedback\")\n",
    "        fr_text_output = gradio.Textbox(lines= 3, placeholder= \"Translated text appears here\", elem_id=\"french\", elem_classes= \"feedback\")\n",
    "        fr_text_button = gradio.Button(\"Translate\")\n",
    "\n",
    "    de_text_button.click(dutch_translate_text, inputs=de_text_input, outputs=de_text_output)\n",
    "    fr_text_button.click(french_translate_text, inputs=fr_text_input, outputs=fr_text_output)"
   ]
  },
  {
   "cell_type": "code",
   "execution_count": null,
   "metadata": {},
   "outputs": [],
   "source": [
    "demo.launch()"
   ]
  }
 ],
 "metadata": {
  "kernelspec": {
   "display_name": "Python 3",
   "language": "python",
   "name": "python3"
  },
  "language_info": {
   "codemirror_mode": {
    "name": "ipython",
    "version": 3
   },
   "file_extension": ".py",
   "mimetype": "text/x-python",
   "name": "python",
   "nbconvert_exporter": "python",
   "pygments_lexer": "ipython3",
   "version": "3.11.3"
  },
  "orig_nbformat": 4
 },
 "nbformat": 4,
 "nbformat_minor": 2
}
